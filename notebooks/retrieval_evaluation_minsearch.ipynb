{
 "cells": [
  {
   "cell_type": "code",
   "id": "initial_id",
   "metadata": {
    "collapsed": true,
    "ExecuteTime": {
     "end_time": "2024-10-28T16:14:00.371320Z",
     "start_time": "2024-10-28T16:14:00.367768Z"
    }
   },
   "source": [
    "import pandas as pd\n",
    "from tqdm.auto import tqdm\n",
    "\n",
    "from ingestion import get_index\n",
    "from ingestion import ingest_data\n"
   ],
   "outputs": [],
   "execution_count": 14
  },
  {
   "metadata": {
    "ExecuteTime": {
     "end_time": "2024-10-28T16:12:31.471286Z",
     "start_time": "2024-10-28T16:12:31.465490Z"
    }
   },
   "cell_type": "code",
   "source": [
    "def minsearch_search(query, boost=None):\n",
    "    if boost is None:\n",
    "        boost = {}\n",
    "\n",
    "    results = index.search(\n",
    "        query=query,\n",
    "        filter_dict={},\n",
    "        boost_dict=boost,\n",
    "        num_results=10\n",
    "    )\n",
    "\n",
    "    return results"
   ],
   "id": "609692099c5a0339",
   "outputs": [],
   "execution_count": 11
  },
  {
   "metadata": {
    "ExecuteTime": {
     "end_time": "2024-10-28T16:11:37.853593Z",
     "start_time": "2024-10-28T16:11:37.844059Z"
    }
   },
   "cell_type": "code",
   "source": [
    "def hit_rate(relevance_total):\n",
    "    cnt = 0\n",
    "\n",
    "    for line in relevance_total:\n",
    "        if True in line:\n",
    "            cnt = cnt + 1\n",
    "\n",
    "    return cnt / len(relevance_total)\n",
    "\n",
    "\n",
    "def mrr(relevance_total):\n",
    "    total_score = 0.0\n",
    "\n",
    "    for line in relevance_total:\n",
    "        for rank in range(len(line)):\n",
    "            if line[rank] == True:\n",
    "                total_score = total_score + 1 / (rank + 1)\n",
    "\n",
    "    return total_score / len(relevance_total)"
   ],
   "id": "f224e1a72627f741",
   "outputs": [],
   "execution_count": 9
  },
  {
   "metadata": {
    "ExecuteTime": {
     "end_time": "2024-10-28T16:13:19.991210Z",
     "start_time": "2024-10-28T16:13:19.979181Z"
    }
   },
   "cell_type": "code",
   "source": [
    "def evaluate(ground_truth, search_function):\n",
    "    relevance_total = []\n",
    "    results_dict = {}\n",
    "    for q in tqdm(ground_truth):\n",
    "        try:\n",
    "            doc_id = q['id']\n",
    "            results = search_function(q)\n",
    "\n",
    "            relevance = [str(d['id']) == str(doc_id) for d in results]\n",
    "\n",
    "            results_dict[q['id']] = (q, results)\n",
    "            relevance_total.append(relevance)\n",
    "            # if all(not r for r in relevance):\n",
    "            #     print(\"No relevant results found for query: \", q)\n",
    "            # print(\"Results: \", results)\n",
    "        except Exception as e:\n",
    "            print(f\"Error processing query: {q} with exeption: {e}\")\n",
    "\n",
    "    return {\n",
    "        'hit_rate': hit_rate(relevance_total),\n",
    "        'mrr': mrr(relevance_total),\n",
    "    }"
   ],
   "id": "2bca1d59e2e58751",
   "outputs": [],
   "execution_count": 12
  },
  {
   "metadata": {},
   "cell_type": "markdown",
   "source": "## Evaluate retrieval using MinSearch and the ground truth data generated with gpt-4o-mini",
   "id": "baae8a404672737e"
  },
  {
   "metadata": {
    "ExecuteTime": {
     "end_time": "2024-10-28T16:08:58.984716Z",
     "start_time": "2024-10-28T16:08:58.951614Z"
    }
   },
   "cell_type": "code",
   "source": [
    "df_question = pd.read_csv('../data/ground-truth-retrieval_4o_mini.csv')\n",
    "df_question.head()"
   ],
   "id": "2170210e93d55136",
   "outputs": [
    {
     "data": {
      "text/plain": [
       "   id                                           question\n",
       "0   0  Can you provide the nutritional breakdown for ...\n",
       "1   0  What makes this Potato Latkes recipe suitable ...\n",
       "2   0  Are there any specific kosher dietary guidelin...\n",
       "3   0  How can I adjust the ingredients in the Potato...\n",
       "4   0  What type of cuisine do the Potato Latkes belo..."
      ],
      "text/html": [
       "<div>\n",
       "<style scoped>\n",
       "    .dataframe tbody tr th:only-of-type {\n",
       "        vertical-align: middle;\n",
       "    }\n",
       "\n",
       "    .dataframe tbody tr th {\n",
       "        vertical-align: top;\n",
       "    }\n",
       "\n",
       "    .dataframe thead th {\n",
       "        text-align: right;\n",
       "    }\n",
       "</style>\n",
       "<table border=\"1\" class=\"dataframe\">\n",
       "  <thead>\n",
       "    <tr style=\"text-align: right;\">\n",
       "      <th></th>\n",
       "      <th>id</th>\n",
       "      <th>question</th>\n",
       "    </tr>\n",
       "  </thead>\n",
       "  <tbody>\n",
       "    <tr>\n",
       "      <th>0</th>\n",
       "      <td>0</td>\n",
       "      <td>Can you provide the nutritional breakdown for ...</td>\n",
       "    </tr>\n",
       "    <tr>\n",
       "      <th>1</th>\n",
       "      <td>0</td>\n",
       "      <td>What makes this Potato Latkes recipe suitable ...</td>\n",
       "    </tr>\n",
       "    <tr>\n",
       "      <th>2</th>\n",
       "      <td>0</td>\n",
       "      <td>Are there any specific kosher dietary guidelin...</td>\n",
       "    </tr>\n",
       "    <tr>\n",
       "      <th>3</th>\n",
       "      <td>0</td>\n",
       "      <td>How can I adjust the ingredients in the Potato...</td>\n",
       "    </tr>\n",
       "    <tr>\n",
       "      <th>4</th>\n",
       "      <td>0</td>\n",
       "      <td>What type of cuisine do the Potato Latkes belo...</td>\n",
       "    </tr>\n",
       "  </tbody>\n",
       "</table>\n",
       "</div>"
      ]
     },
     "execution_count": 3,
     "metadata": {},
     "output_type": "execute_result"
    }
   ],
   "execution_count": 3
  },
  {
   "metadata": {
    "ExecuteTime": {
     "end_time": "2024-10-28T16:09:28.450267Z",
     "start_time": "2024-10-28T16:09:28.439186Z"
    }
   },
   "cell_type": "code",
   "source": [
    "ground_truth = df_question.to_dict(orient='records')\n",
    "ground_truth[0]"
   ],
   "id": "f64daa30efcf4c3e",
   "outputs": [
    {
     "data": {
      "text/plain": [
       "{'id': 0,\n",
       " 'question': 'Can you provide the nutritional breakdown for the Potato Latkes recipe, including protein, carbs, and fat content?'}"
      ]
     },
     "execution_count": 4,
     "metadata": {},
     "output_type": "execute_result"
    }
   ],
   "execution_count": 4
  },
  {
   "metadata": {
    "ExecuteTime": {
     "end_time": "2024-10-28T16:10:26.659349Z",
     "start_time": "2024-10-28T16:10:25.544141Z"
    }
   },
   "cell_type": "code",
   "source": [
    "documents = ingest_data()\n",
    "documents[0]"
   ],
   "id": "c2d6e2762afbacf1",
   "outputs": [
    {
     "data": {
      "text/plain": [
       "{'id': 0,\n",
       " 'diet_type': 'dash',\n",
       " 'recipe_name': 'Potato Latkes Made Simple: A Twitter Recipe',\n",
       " 'cuisine_type': 'kosher',\n",
       " 'protein(g)': 31.55,\n",
       " 'carbs(g)': 110.84,\n",
       " 'fat(g)': 118.28}"
      ]
     },
     "execution_count": 5,
     "metadata": {},
     "output_type": "execute_result"
    }
   ],
   "execution_count": 5
  },
  {
   "metadata": {
    "ExecuteTime": {
     "end_time": "2024-10-28T16:10:46.861260Z",
     "start_time": "2024-10-28T16:10:46.821639Z"
    }
   },
   "cell_type": "code",
   "source": [
    "text_fields = [\n",
    "    'id',\n",
    "    'recipe_name',\n",
    "    'cuisine_type',\n",
    "    'diet_type',\n",
    "    'protein(g)',\n",
    "    'carbs(g)',\n",
    "    'fat(g)',\n",
    "]\n",
    "keyword_fields = ['id']\n",
    "index = get_index(\n",
    "    documents=documents,\n",
    "    text_fields=text_fields,\n",
    "    keyword_fields=keyword_fields\n",
    ")"
   ],
   "id": "f0c6606cb0c6c35b",
   "outputs": [],
   "execution_count": 6
  },
  {
   "metadata": {
    "ExecuteTime": {
     "end_time": "2024-10-28T16:13:34.917468Z",
     "start_time": "2024-10-28T16:13:26.592474Z"
    }
   },
   "cell_type": "code",
   "source": "evaluate(ground_truth, lambda q: minsearch_search(q['question']))",
   "id": "67a835d1a85fcbf9",
   "outputs": [
    {
     "data": {
      "text/plain": [
       "  0%|          | 0/1000 [00:00<?, ?it/s]"
      ],
      "application/vnd.jupyter.widget-view+json": {
       "version_major": 2,
       "version_minor": 0,
       "model_id": "8c27e4055b264dd0877f7414ef84eda7"
      }
     },
     "metadata": {},
     "output_type": "display_data"
    },
    {
     "data": {
      "text/plain": [
       "{'hit_rate': 0.898, 'mrr': 0.85794126984127}"
      ]
     },
     "execution_count": 13,
     "metadata": {},
     "output_type": "execute_result"
    }
   ],
   "execution_count": 13
  },
  {
   "metadata": {},
   "cell_type": "markdown",
   "source": "Results: {'hit_rate': 0.898, 'mrr': 0.85794126984127}",
   "id": "982fd51c0047246e"
  },
  {
   "metadata": {},
   "cell_type": "markdown",
   "source": "## Evaluate retrieval using MinSearch and the ground truth data generated with gpt-4o",
   "id": "a5fdcc931bcfd96"
  },
  {
   "metadata": {
    "ExecuteTime": {
     "end_time": "2024-10-28T16:17:51.394869Z",
     "start_time": "2024-10-28T16:17:51.372802Z"
    }
   },
   "cell_type": "code",
   "source": [
    "df_question = pd.read_csv('../data/ground-truth-retrieval_4o.csv')\n",
    "df_question.head()"
   ],
   "id": "f69130f879c7c0c7",
   "outputs": [
    {
     "data": {
      "text/plain": [
       "   id                                           question\n",
       "0   0  What is the protein content in the Potato Latk...\n",
       "1   0  Can you tell me how many grams of carbohydrate...\n",
       "2   0  I need to know the fat content in the Potato L...\n",
       "3   0  What type of cuisine is the Potato Latkes Made...\n",
       "4   0  Is the Potato Latkes Made Simple recipe suitab..."
      ],
      "text/html": [
       "<div>\n",
       "<style scoped>\n",
       "    .dataframe tbody tr th:only-of-type {\n",
       "        vertical-align: middle;\n",
       "    }\n",
       "\n",
       "    .dataframe tbody tr th {\n",
       "        vertical-align: top;\n",
       "    }\n",
       "\n",
       "    .dataframe thead th {\n",
       "        text-align: right;\n",
       "    }\n",
       "</style>\n",
       "<table border=\"1\" class=\"dataframe\">\n",
       "  <thead>\n",
       "    <tr style=\"text-align: right;\">\n",
       "      <th></th>\n",
       "      <th>id</th>\n",
       "      <th>question</th>\n",
       "    </tr>\n",
       "  </thead>\n",
       "  <tbody>\n",
       "    <tr>\n",
       "      <th>0</th>\n",
       "      <td>0</td>\n",
       "      <td>What is the protein content in the Potato Latk...</td>\n",
       "    </tr>\n",
       "    <tr>\n",
       "      <th>1</th>\n",
       "      <td>0</td>\n",
       "      <td>Can you tell me how many grams of carbohydrate...</td>\n",
       "    </tr>\n",
       "    <tr>\n",
       "      <th>2</th>\n",
       "      <td>0</td>\n",
       "      <td>I need to know the fat content in the Potato L...</td>\n",
       "    </tr>\n",
       "    <tr>\n",
       "      <th>3</th>\n",
       "      <td>0</td>\n",
       "      <td>What type of cuisine is the Potato Latkes Made...</td>\n",
       "    </tr>\n",
       "    <tr>\n",
       "      <th>4</th>\n",
       "      <td>0</td>\n",
       "      <td>Is the Potato Latkes Made Simple recipe suitab...</td>\n",
       "    </tr>\n",
       "  </tbody>\n",
       "</table>\n",
       "</div>"
      ]
     },
     "execution_count": 15,
     "metadata": {},
     "output_type": "execute_result"
    }
   ],
   "execution_count": 15
  },
  {
   "metadata": {
    "ExecuteTime": {
     "end_time": "2024-10-28T16:17:53.307808Z",
     "start_time": "2024-10-28T16:17:53.298149Z"
    }
   },
   "cell_type": "code",
   "source": [
    "ground_truth = df_question.to_dict(orient='records')\n",
    "ground_truth[0]"
   ],
   "id": "a5d1c14ab18c12e5",
   "outputs": [
    {
     "data": {
      "text/plain": [
       "{'id': 0,\n",
       " 'question': 'What is the protein content in the Potato Latkes Made Simple recipe?'}"
      ]
     },
     "execution_count": 16,
     "metadata": {},
     "output_type": "execute_result"
    }
   ],
   "execution_count": 16
  },
  {
   "metadata": {
    "ExecuteTime": {
     "end_time": "2024-10-28T16:18:12.099535Z",
     "start_time": "2024-10-28T16:18:12.087770Z"
    }
   },
   "cell_type": "code",
   "source": [
    "documents = ingest_data()\n",
    "documents[0]"
   ],
   "id": "93dd9e306da12a9c",
   "outputs": [
    {
     "data": {
      "text/plain": [
       "{'id': 0,\n",
       " 'diet_type': 'dash',\n",
       " 'recipe_name': 'Potato Latkes Made Simple: A Twitter Recipe',\n",
       " 'cuisine_type': 'kosher',\n",
       " 'protein(g)': 31.55,\n",
       " 'carbs(g)': 110.84,\n",
       " 'fat(g)': 118.28}"
      ]
     },
     "execution_count": 17,
     "metadata": {},
     "output_type": "execute_result"
    }
   ],
   "execution_count": 17
  },
  {
   "metadata": {
    "ExecuteTime": {
     "end_time": "2024-10-28T16:18:32.098992Z",
     "start_time": "2024-10-28T16:18:32.076517Z"
    }
   },
   "cell_type": "code",
   "source": [
    "text_fields = [\n",
    "    'id',\n",
    "    'recipe_name',\n",
    "    'cuisine_type',\n",
    "    'diet_type',\n",
    "    'protein(g)',\n",
    "    'carbs(g)',\n",
    "    'fat(g)',\n",
    "]\n",
    "keyword_fields = ['id']\n",
    "index = get_index(\n",
    "    documents=documents,\n",
    "    text_fields=text_fields,\n",
    "    keyword_fields=keyword_fields\n",
    ")"
   ],
   "id": "625c782983e15c97",
   "outputs": [],
   "execution_count": 18
  },
  {
   "metadata": {
    "ExecuteTime": {
     "end_time": "2024-10-28T16:18:56.172104Z",
     "start_time": "2024-10-28T16:18:48.133497Z"
    }
   },
   "cell_type": "code",
   "source": "evaluate(ground_truth, lambda q: minsearch_search(q['question']))",
   "id": "f17a71a6745d9d23",
   "outputs": [
    {
     "data": {
      "text/plain": [
       "  0%|          | 0/1000 [00:00<?, ?it/s]"
      ],
      "application/vnd.jupyter.widget-view+json": {
       "version_major": 2,
       "version_minor": 0,
       "model_id": "70c775faa8504d95a1349a46e1b9052a"
      }
     },
     "metadata": {},
     "output_type": "display_data"
    },
    {
     "data": {
      "text/plain": [
       "{'hit_rate': 0.947, 'mrr': 0.9229761904761906}"
      ]
     },
     "execution_count": 19,
     "metadata": {},
     "output_type": "execute_result"
    }
   ],
   "execution_count": 19
  },
  {
   "metadata": {},
   "cell_type": "markdown",
   "source": "## Evaluate retrieval using Elastic Search and the ground truth data generated with gpt-4o-mini\n",
   "id": "dc40736342e59df5"
  },
  {
   "metadata": {
    "ExecuteTime": {
     "end_time": "2024-10-28T16:23:43.882102Z",
     "start_time": "2024-10-28T16:23:43.871270Z"
    }
   },
   "cell_type": "code",
   "source": [
    "df_question = pd.read_csv('../data/ground-truth-retrieval_4o_mini.csv')\n",
    "df_question.head()"
   ],
   "id": "6ce5d22fb2c1eb6f",
   "outputs": [
    {
     "data": {
      "text/plain": [
       "   id                                           question\n",
       "0   0  Can you provide the nutritional breakdown for ...\n",
       "1   0  What makes this Potato Latkes recipe suitable ...\n",
       "2   0  Are there any specific kosher dietary guidelin...\n",
       "3   0  How can I adjust the ingredients in the Potato...\n",
       "4   0  What type of cuisine do the Potato Latkes belo..."
      ],
      "text/html": [
       "<div>\n",
       "<style scoped>\n",
       "    .dataframe tbody tr th:only-of-type {\n",
       "        vertical-align: middle;\n",
       "    }\n",
       "\n",
       "    .dataframe tbody tr th {\n",
       "        vertical-align: top;\n",
       "    }\n",
       "\n",
       "    .dataframe thead th {\n",
       "        text-align: right;\n",
       "    }\n",
       "</style>\n",
       "<table border=\"1\" class=\"dataframe\">\n",
       "  <thead>\n",
       "    <tr style=\"text-align: right;\">\n",
       "      <th></th>\n",
       "      <th>id</th>\n",
       "      <th>question</th>\n",
       "    </tr>\n",
       "  </thead>\n",
       "  <tbody>\n",
       "    <tr>\n",
       "      <th>0</th>\n",
       "      <td>0</td>\n",
       "      <td>Can you provide the nutritional breakdown for ...</td>\n",
       "    </tr>\n",
       "    <tr>\n",
       "      <th>1</th>\n",
       "      <td>0</td>\n",
       "      <td>What makes this Potato Latkes recipe suitable ...</td>\n",
       "    </tr>\n",
       "    <tr>\n",
       "      <th>2</th>\n",
       "      <td>0</td>\n",
       "      <td>Are there any specific kosher dietary guidelin...</td>\n",
       "    </tr>\n",
       "    <tr>\n",
       "      <th>3</th>\n",
       "      <td>0</td>\n",
       "      <td>How can I adjust the ingredients in the Potato...</td>\n",
       "    </tr>\n",
       "    <tr>\n",
       "      <th>4</th>\n",
       "      <td>0</td>\n",
       "      <td>What type of cuisine do the Potato Latkes belo...</td>\n",
       "    </tr>\n",
       "  </tbody>\n",
       "</table>\n",
       "</div>"
      ]
     },
     "execution_count": 21,
     "metadata": {},
     "output_type": "execute_result"
    }
   ],
   "execution_count": 21
  },
  {
   "metadata": {
    "ExecuteTime": {
     "end_time": "2024-10-28T16:23:45.660390Z",
     "start_time": "2024-10-28T16:23:45.644262Z"
    }
   },
   "cell_type": "code",
   "source": [
    "ground_truth = df_question.to_dict(orient='records')\n",
    "ground_truth[0]"
   ],
   "id": "9f43b823367b636d",
   "outputs": [
    {
     "data": {
      "text/plain": [
       "{'id': 0,\n",
       " 'question': 'Can you provide the nutritional breakdown for the Potato Latkes recipe, including protein, carbs, and fat content?'}"
      ]
     },
     "execution_count": 22,
     "metadata": {},
     "output_type": "execute_result"
    }
   ],
   "execution_count": 22
  },
  {
   "metadata": {
    "ExecuteTime": {
     "end_time": "2024-10-28T16:23:47.588005Z",
     "start_time": "2024-10-28T16:23:47.570714Z"
    }
   },
   "cell_type": "code",
   "source": [
    "documents = ingest_data()\n",
    "documents[0]"
   ],
   "id": "60e7d6dac26dd3da",
   "outputs": [
    {
     "data": {
      "text/plain": [
       "{'id': 0,\n",
       " 'diet_type': 'dash',\n",
       " 'recipe_name': 'Potato Latkes Made Simple: A Twitter Recipe',\n",
       " 'cuisine_type': 'kosher',\n",
       " 'protein(g)': 31.55,\n",
       " 'carbs(g)': 110.84,\n",
       " 'fat(g)': 118.28}"
      ]
     },
     "execution_count": 23,
     "metadata": {},
     "output_type": "execute_result"
    }
   ],
   "execution_count": 23
  },
  {
   "metadata": {},
   "cell_type": "markdown",
   "source": "",
   "id": "a24c492171567407"
  },
  {
   "metadata": {},
   "cell_type": "markdown",
   "source": "#### Create Embeddings using Sentence Transformer",
   "id": "460201dac07cabfe"
  },
  {
   "metadata": {
    "ExecuteTime": {
     "end_time": "2024-10-28T16:25:08.385528Z",
     "start_time": "2024-10-28T16:25:05.950798Z"
    }
   },
   "cell_type": "code",
   "source": [
    "# Please perform \"pip install sentence_transformers==2.7.0\"\n",
    "from sentence_transformers import SentenceTransformer\n",
    "\n",
    "# if you get an error do the following:\n",
    "# 1. Uninstall numpy \n",
    "# 2. Uninstall torch\n",
    "# 3. pip install numpy==1.26.4\n",
    "# 4. pip install torch\n",
    "# run the above cell, it should work\n",
    "model = SentenceTransformer(\"all-mpnet-base-v2\")"
   ],
   "id": "e0d4dc8e52414dd5",
   "outputs": [],
   "execution_count": 25
  },
  {
   "metadata": {
    "ExecuteTime": {
     "end_time": "2024-10-28T16:26:01.594949Z",
     "start_time": "2024-10-28T16:25:42.665184Z"
    }
   },
   "cell_type": "code",
   "source": [
    "# Created the dense vector using the pre-trained model\n",
    "operations = []\n",
    "embeddings = []\n",
    "for doc in documents:\n",
    "    # Transforming the title into an embedding using the model\n",
    "    doc[\"recipe_name_vector\"] = model.encode(doc[\"recipe_name\"]).tolist()\n",
    "    operations.append(doc)\n",
    "    embeddings.append(doc[\"recipe_name_vector\"])"
   ],
   "id": "319cd77197c12525",
   "outputs": [],
   "execution_count": 26
  },
  {
   "metadata": {
    "ExecuteTime": {
     "end_time": "2024-10-28T16:26:04.445477Z",
     "start_time": "2024-10-28T16:26:04.437904Z"
    }
   },
   "cell_type": "code",
   "source": "len(operations[0].get(\"recipe_name_vector\"))",
   "id": "1f7c95ed1b61fc6b",
   "outputs": [
    {
     "data": {
      "text/plain": [
       "768"
      ]
     },
     "execution_count": 27,
     "metadata": {},
     "output_type": "execute_result"
    }
   ],
   "execution_count": 27
  },
  {
   "metadata": {},
   "cell_type": "markdown",
   "source": "#### Step 3: Setup ElasticSearch connection",
   "id": "61ec8beed36ef844"
  },
  {
   "metadata": {},
   "cell_type": "code",
   "outputs": [],
   "execution_count": null,
   "source": [
    "from elasticsearch import Elasticsearch\n",
    "\n",
    "es_client = Elasticsearch('http://localhost:9200')\n",
    "\n",
    "es_client.info()"
   ],
   "id": "55da9ffa6e08df90"
  },
  {
   "metadata": {},
   "cell_type": "markdown",
   "source": [
    "#### Step 4: Create Mappings and Index  \n",
    "* Mapping is the process of defining how a document, and the fields it contains, are stored and indexed.\n",
    "\n",
    "* Each document is a collection of fields, which each have their own data type.\n",
    "\n",
    "* We can compare mapping to a database schema in how it describes the fields and properties that documents hold, the datatype of each field (e.g., string, integer, or date), and how those fields should be indexed and stored "
   ],
   "id": "814b54eb8bb0b742"
  },
  {
   "metadata": {
    "ExecuteTime": {
     "end_time": "2024-10-28T16:28:07.654051Z",
     "start_time": "2024-10-28T16:28:07.644062Z"
    }
   },
   "cell_type": "code",
   "source": [
    "index_settings = {\n",
    "    \"settings\": {\n",
    "        \"number_of_shards\": 1,\n",
    "        \"number_of_replicas\": 0\n",
    "    },\n",
    "    \"mappings\": {\n",
    "        \"properties\":\n",
    "            {\n",
    "                'id': {\"type\": \"keyword\"},\n",
    "                'diet_type': {\"type\": \"text\"},\n",
    "                'recipe_name': {\"type\": \"text\"},\n",
    "                'cuisine_type': {\"type\": \"text\"},\n",
    "                'protein(g)': {\"type\": \"text\"},\n",
    "                'carbs(g)': {\"type\": \"text\"},\n",
    "                'fat(g)': {\"type\": \"text\"},\n",
    "                'recipe_name_vector': {\"type\": \"dense_vector\", \"dims\": 768, \"index\": True, \"similarity\": \"cosine\"}\n",
    "            }\n",
    "    }\n",
    "}"
   ],
   "id": "9d8f2ed80c67cee3",
   "outputs": [],
   "execution_count": 28
  },
  {
   "metadata": {},
   "cell_type": "code",
   "outputs": [],
   "execution_count": null,
   "source": [
    "index_name = \"recipes\"\n",
    "\n",
    "es_client.indices.delete(index=index_name, ignore_unavailable=True)\n",
    "es_client.indices.create(index=index_name, body=index_settings)"
   ],
   "id": "6292b73ce833a725"
  }
 ],
 "metadata": {
  "kernelspec": {
   "display_name": "Python 3",
   "language": "python",
   "name": "python3"
  },
  "language_info": {
   "codemirror_mode": {
    "name": "ipython",
    "version": 2
   },
   "file_extension": ".py",
   "mimetype": "text/x-python",
   "name": "python",
   "nbconvert_exporter": "python",
   "pygments_lexer": "ipython2",
   "version": "2.7.6"
  }
 },
 "nbformat": 4,
 "nbformat_minor": 5
}
