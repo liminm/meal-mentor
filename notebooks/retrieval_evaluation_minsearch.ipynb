{
 "cells": [
  {
   "cell_type": "code",
   "id": "initial_id",
   "metadata": {
    "collapsed": true,
    "ExecuteTime": {
     "end_time": "2024-10-29T01:36:40.081506Z",
     "start_time": "2024-10-29T01:36:38.945531Z"
    }
   },
   "source": [
    "import pandas as pd\n",
    "from tqdm.auto import tqdm\n",
    "\n",
    "from meal_mentor.ingest import ingest_data, load_index\n",
    "from meal_mentor.ingest import load_index\n"
   ],
   "outputs": [],
   "execution_count": 1
  },
  {
   "metadata": {
    "ExecuteTime": {
     "end_time": "2024-10-29T01:36:41.952685Z",
     "start_time": "2024-10-29T01:36:41.947794Z"
    }
   },
   "cell_type": "code",
   "source": [
    "def minsearch_search(query, boost=None):\n",
    "    if boost is None:\n",
    "        boost = {}\n",
    "\n",
    "    results = index.search(\n",
    "        query=query,\n",
    "        filter_dict={},\n",
    "        boost_dict=boost,\n",
    "        num_results=10\n",
    "    )\n",
    "\n",
    "    return results"
   ],
   "id": "609692099c5a0339",
   "outputs": [],
   "execution_count": 2
  },
  {
   "metadata": {
    "ExecuteTime": {
     "end_time": "2024-10-29T01:36:43.210021Z",
     "start_time": "2024-10-29T01:36:43.199765Z"
    }
   },
   "cell_type": "code",
   "source": [
    "def hit_rate(relevance_total):\n",
    "    cnt = 0\n",
    "\n",
    "    for line in relevance_total:\n",
    "        if True in line:\n",
    "            cnt = cnt + 1\n",
    "\n",
    "    return cnt / len(relevance_total)\n",
    "\n",
    "\n",
    "def mrr(relevance_total):\n",
    "    total_score = 0.0\n",
    "\n",
    "    for line in relevance_total:\n",
    "        for rank in range(len(line)):\n",
    "            if line[rank] == True:\n",
    "                total_score = total_score + 1 / (rank + 1)\n",
    "\n",
    "    return total_score / len(relevance_total)"
   ],
   "id": "f224e1a72627f741",
   "outputs": [],
   "execution_count": 3
  },
  {
   "metadata": {
    "ExecuteTime": {
     "end_time": "2024-10-29T01:36:44.971275Z",
     "start_time": "2024-10-29T01:36:44.960091Z"
    }
   },
   "cell_type": "code",
   "source": [
    "def evaluate(ground_truth, search_function):\n",
    "    relevance_total = []\n",
    "    results_dict = {}\n",
    "    for q in tqdm(ground_truth):\n",
    "        try:\n",
    "            doc_id = q['id']\n",
    "            results = search_function(q)\n",
    "\n",
    "            relevance = [str(d['id']) == str(doc_id) for d in results]\n",
    "\n",
    "            results_dict[q['id']] = (q, results)\n",
    "            relevance_total.append(relevance)\n",
    "            # if all(not r for r in relevance):\n",
    "            #     print(\"No relevant results found for query: \", q)\n",
    "            # print(\"Results: \", results)\n",
    "        except Exception as e:\n",
    "            print(f\"Error processing query: {q} with exeption: {e}\")\n",
    "\n",
    "    return {\n",
    "        'hit_rate': hit_rate(relevance_total),\n",
    "        'mrr': mrr(relevance_total),\n",
    "    }"
   ],
   "id": "2bca1d59e2e58751",
   "outputs": [],
   "execution_count": 4
  },
  {
   "metadata": {},
   "cell_type": "markdown",
   "source": "## Evaluate retrieval using MinSearch and the ground truth data generated with gpt-4o-mini",
   "id": "baae8a404672737e"
  },
  {
   "metadata": {
    "ExecuteTime": {
     "end_time": "2024-10-29T01:36:47.130096Z",
     "start_time": "2024-10-29T01:36:47.104763Z"
    }
   },
   "cell_type": "code",
   "source": [
    "df_question = pd.read_csv('../data/ground-truth-retrieval_4o_mini.csv')\n",
    "df_question.head()"
   ],
   "id": "2170210e93d55136",
   "outputs": [
    {
     "data": {
      "text/plain": [
       "   id                                           question\n",
       "0   0  Can you provide the nutritional breakdown for ...\n",
       "1   0  What makes this Potato Latkes recipe suitable ...\n",
       "2   0  Are there any specific kosher dietary guidelin...\n",
       "3   0  How can I adjust the ingredients in the Potato...\n",
       "4   0  What type of cuisine do the Potato Latkes belo..."
      ],
      "text/html": [
       "<div>\n",
       "<style scoped>\n",
       "    .dataframe tbody tr th:only-of-type {\n",
       "        vertical-align: middle;\n",
       "    }\n",
       "\n",
       "    .dataframe tbody tr th {\n",
       "        vertical-align: top;\n",
       "    }\n",
       "\n",
       "    .dataframe thead th {\n",
       "        text-align: right;\n",
       "    }\n",
       "</style>\n",
       "<table border=\"1\" class=\"dataframe\">\n",
       "  <thead>\n",
       "    <tr style=\"text-align: right;\">\n",
       "      <th></th>\n",
       "      <th>id</th>\n",
       "      <th>question</th>\n",
       "    </tr>\n",
       "  </thead>\n",
       "  <tbody>\n",
       "    <tr>\n",
       "      <th>0</th>\n",
       "      <td>0</td>\n",
       "      <td>Can you provide the nutritional breakdown for ...</td>\n",
       "    </tr>\n",
       "    <tr>\n",
       "      <th>1</th>\n",
       "      <td>0</td>\n",
       "      <td>What makes this Potato Latkes recipe suitable ...</td>\n",
       "    </tr>\n",
       "    <tr>\n",
       "      <th>2</th>\n",
       "      <td>0</td>\n",
       "      <td>Are there any specific kosher dietary guidelin...</td>\n",
       "    </tr>\n",
       "    <tr>\n",
       "      <th>3</th>\n",
       "      <td>0</td>\n",
       "      <td>How can I adjust the ingredients in the Potato...</td>\n",
       "    </tr>\n",
       "    <tr>\n",
       "      <th>4</th>\n",
       "      <td>0</td>\n",
       "      <td>What type of cuisine do the Potato Latkes belo...</td>\n",
       "    </tr>\n",
       "  </tbody>\n",
       "</table>\n",
       "</div>"
      ]
     },
     "execution_count": 5,
     "metadata": {},
     "output_type": "execute_result"
    }
   ],
   "execution_count": 5
  },
  {
   "metadata": {
    "ExecuteTime": {
     "end_time": "2024-10-29T01:36:49.246705Z",
     "start_time": "2024-10-29T01:36:49.227945Z"
    }
   },
   "cell_type": "code",
   "source": [
    "ground_truth = df_question.to_dict(orient='records')\n",
    "ground_truth[0]"
   ],
   "id": "f64daa30efcf4c3e",
   "outputs": [
    {
     "data": {
      "text/plain": [
       "{'id': 0,\n",
       " 'question': 'Can you provide the nutritional breakdown for the Potato Latkes recipe, including protein, carbs, and fat content?'}"
      ]
     },
     "execution_count": 6,
     "metadata": {},
     "output_type": "execute_result"
    }
   ],
   "execution_count": 6
  },
  {
   "metadata": {
    "ExecuteTime": {
     "end_time": "2024-10-29T01:37:36.237940Z",
     "start_time": "2024-10-29T01:37:36.221143Z"
    }
   },
   "cell_type": "code",
   "source": [
    "documents = ingest_data(file_path='../data/data.csv')\n",
    "documents[0]"
   ],
   "id": "c2d6e2762afbacf1",
   "outputs": [
    {
     "name": "stdout",
     "output_type": "stream",
     "text": [
      "   id diet_type                                  recipe_name cuisine_type  \\\n",
      "0   0      dash  Potato Latkes Made Simple: A Twitter Recipe       kosher   \n",
      "1   1      dash                             Avocado Dressing     american   \n",
      "2   2      dash                                  Bread Salad     american   \n",
      "3   3      dash                             Ultimat Sparkler        world   \n",
      "4   4      dash                                  Yogurt Pops     american   \n",
      "\n",
      "   protein(g)  carbs(g)  fat(g)  \n",
      "0       31.55    110.84  118.28  \n",
      "1        4.18     18.97  118.42  \n",
      "2       44.09    153.84   86.03  \n",
      "3        0.32     16.32    0.08  \n",
      "4        9.07     34.05    7.90  \n"
     ]
    },
    {
     "data": {
      "text/plain": [
       "{'id': 0,\n",
       " 'diet_type': 'dash',\n",
       " 'recipe_name': 'Potato Latkes Made Simple: A Twitter Recipe',\n",
       " 'cuisine_type': 'kosher',\n",
       " 'protein(g)': 31.55,\n",
       " 'carbs(g)': 110.84,\n",
       " 'fat(g)': 118.28}"
      ]
     },
     "execution_count": 9,
     "metadata": {},
     "output_type": "execute_result"
    }
   ],
   "execution_count": 9
  },
  {
   "metadata": {
    "ExecuteTime": {
     "end_time": "2024-10-29T01:37:38.928403Z",
     "start_time": "2024-10-29T01:37:38.876367Z"
    }
   },
   "cell_type": "code",
   "source": [
    "text_fields = [\n",
    "    'id',\n",
    "    'recipe_name',\n",
    "    'cuisine_type',\n",
    "    'diet_type',\n",
    "    'protein(g)',\n",
    "    'carbs(g)',\n",
    "    'fat(g)',\n",
    "]\n",
    "keyword_fields = ['id']\n",
    "index = load_index(\n",
    "    documents=documents,\n",
    "    text_fields=text_fields,\n",
    "    keyword_fields=keyword_fields\n",
    ")"
   ],
   "id": "f0c6606cb0c6c35b",
   "outputs": [],
   "execution_count": 10
  },
  {
   "metadata": {
    "ExecuteTime": {
     "end_time": "2024-10-29T01:37:47.852832Z",
     "start_time": "2024-10-29T01:37:40.663564Z"
    }
   },
   "cell_type": "code",
   "source": "evaluate(ground_truth, lambda q: minsearch_search(q['question']))",
   "id": "67a835d1a85fcbf9",
   "outputs": [
    {
     "data": {
      "text/plain": [
       "  0%|          | 0/1000 [00:00<?, ?it/s]"
      ],
      "application/vnd.jupyter.widget-view+json": {
       "version_major": 2,
       "version_minor": 0,
       "model_id": "fa0683bff4904816b98b85c374b54946"
      }
     },
     "metadata": {},
     "output_type": "display_data"
    },
    {
     "data": {
      "text/plain": [
       "{'hit_rate': 0.898, 'mrr': 0.85794126984127}"
      ]
     },
     "execution_count": 11,
     "metadata": {},
     "output_type": "execute_result"
    }
   ],
   "execution_count": 11
  },
  {
   "metadata": {},
   "cell_type": "markdown",
   "source": "Results: {'hit_rate': 0.898, 'mrr': 0.85794126984127}",
   "id": "982fd51c0047246e"
  },
  {
   "metadata": {},
   "cell_type": "markdown",
   "source": "## Evaluate retrieval using MinSearch and the ground truth data generated with gpt-4o",
   "id": "a5fdcc931bcfd96"
  },
  {
   "metadata": {
    "ExecuteTime": {
     "end_time": "2024-10-28T16:17:51.394869Z",
     "start_time": "2024-10-28T16:17:51.372802Z"
    }
   },
   "cell_type": "code",
   "source": [
    "df_question = pd.read_csv('../data/ground-truth-retrieval_4o.csv')\n",
    "df_question.head()"
   ],
   "id": "f69130f879c7c0c7",
   "outputs": [
    {
     "data": {
      "text/plain": [
       "   id                                           question\n",
       "0   0  What is the protein content in the Potato Latk...\n",
       "1   0  Can you tell me how many grams of carbohydrate...\n",
       "2   0  I need to know the fat content in the Potato L...\n",
       "3   0  What type of cuisine is the Potato Latkes Made...\n",
       "4   0  Is the Potato Latkes Made Simple recipe suitab..."
      ],
      "text/html": [
       "<div>\n",
       "<style scoped>\n",
       "    .dataframe tbody tr th:only-of-type {\n",
       "        vertical-align: middle;\n",
       "    }\n",
       "\n",
       "    .dataframe tbody tr th {\n",
       "        vertical-align: top;\n",
       "    }\n",
       "\n",
       "    .dataframe thead th {\n",
       "        text-align: right;\n",
       "    }\n",
       "</style>\n",
       "<table border=\"1\" class=\"dataframe\">\n",
       "  <thead>\n",
       "    <tr style=\"text-align: right;\">\n",
       "      <th></th>\n",
       "      <th>id</th>\n",
       "      <th>question</th>\n",
       "    </tr>\n",
       "  </thead>\n",
       "  <tbody>\n",
       "    <tr>\n",
       "      <th>0</th>\n",
       "      <td>0</td>\n",
       "      <td>What is the protein content in the Potato Latk...</td>\n",
       "    </tr>\n",
       "    <tr>\n",
       "      <th>1</th>\n",
       "      <td>0</td>\n",
       "      <td>Can you tell me how many grams of carbohydrate...</td>\n",
       "    </tr>\n",
       "    <tr>\n",
       "      <th>2</th>\n",
       "      <td>0</td>\n",
       "      <td>I need to know the fat content in the Potato L...</td>\n",
       "    </tr>\n",
       "    <tr>\n",
       "      <th>3</th>\n",
       "      <td>0</td>\n",
       "      <td>What type of cuisine is the Potato Latkes Made...</td>\n",
       "    </tr>\n",
       "    <tr>\n",
       "      <th>4</th>\n",
       "      <td>0</td>\n",
       "      <td>Is the Potato Latkes Made Simple recipe suitab...</td>\n",
       "    </tr>\n",
       "  </tbody>\n",
       "</table>\n",
       "</div>"
      ]
     },
     "execution_count": 15,
     "metadata": {},
     "output_type": "execute_result"
    }
   ],
   "execution_count": 15
  },
  {
   "metadata": {
    "ExecuteTime": {
     "end_time": "2024-10-28T16:17:53.307808Z",
     "start_time": "2024-10-28T16:17:53.298149Z"
    }
   },
   "cell_type": "code",
   "source": [
    "ground_truth = df_question.to_dict(orient='records')\n",
    "ground_truth[0]"
   ],
   "id": "a5d1c14ab18c12e5",
   "outputs": [
    {
     "data": {
      "text/plain": [
       "{'id': 0,\n",
       " 'question': 'What is the protein content in the Potato Latkes Made Simple recipe?'}"
      ]
     },
     "execution_count": 16,
     "metadata": {},
     "output_type": "execute_result"
    }
   ],
   "execution_count": 16
  },
  {
   "metadata": {
    "ExecuteTime": {
     "end_time": "2024-10-28T16:18:12.099535Z",
     "start_time": "2024-10-28T16:18:12.087770Z"
    }
   },
   "cell_type": "code",
   "source": [
    "documents = ingest_data(file_path='../data/data.csv')\n",
    "documents[0]"
   ],
   "id": "93dd9e306da12a9c",
   "outputs": [
    {
     "data": {
      "text/plain": [
       "{'id': 0,\n",
       " 'diet_type': 'dash',\n",
       " 'recipe_name': 'Potato Latkes Made Simple: A Twitter Recipe',\n",
       " 'cuisine_type': 'kosher',\n",
       " 'protein(g)': 31.55,\n",
       " 'carbs(g)': 110.84,\n",
       " 'fat(g)': 118.28}"
      ]
     },
     "execution_count": 17,
     "metadata": {},
     "output_type": "execute_result"
    }
   ],
   "execution_count": 17
  },
  {
   "metadata": {
    "ExecuteTime": {
     "end_time": "2024-10-28T16:18:32.098992Z",
     "start_time": "2024-10-28T16:18:32.076517Z"
    }
   },
   "cell_type": "code",
   "source": [
    "text_fields = [\n",
    "    'id',\n",
    "    'recipe_name',\n",
    "    'cuisine_type',\n",
    "    'diet_type',\n",
    "    'protein(g)',\n",
    "    'carbs(g)',\n",
    "    'fat(g)',\n",
    "]\n",
    "keyword_fields = ['id']\n",
    "index = load_index(\n",
    "    documents=documents,\n",
    "    text_fields=text_fields,\n",
    "    keyword_fields=keyword_fields\n",
    ")"
   ],
   "id": "625c782983e15c97",
   "outputs": [],
   "execution_count": 18
  },
  {
   "metadata": {
    "ExecuteTime": {
     "end_time": "2024-10-28T16:18:56.172104Z",
     "start_time": "2024-10-28T16:18:48.133497Z"
    }
   },
   "cell_type": "code",
   "source": "evaluate(ground_truth, lambda q: minsearch_search(q['question']))",
   "id": "f17a71a6745d9d23",
   "outputs": [
    {
     "data": {
      "text/plain": [
       "  0%|          | 0/1000 [00:00<?, ?it/s]"
      ],
      "application/vnd.jupyter.widget-view+json": {
       "version_major": 2,
       "version_minor": 0,
       "model_id": "70c775faa8504d95a1349a46e1b9052a"
      }
     },
     "metadata": {},
     "output_type": "display_data"
    },
    {
     "data": {
      "text/plain": [
       "{'hit_rate': 0.947, 'mrr': 0.9229761904761906}"
      ]
     },
     "execution_count": 19,
     "metadata": {},
     "output_type": "execute_result"
    }
   ],
   "execution_count": 19
  },
  {
   "metadata": {},
   "cell_type": "markdown",
   "source": "Results: {'hit_rate': 0.947, 'mrr': 0.9229761904761906}",
   "id": "19af0663726c7a0b"
  }
 ],
 "metadata": {
  "kernelspec": {
   "display_name": "Python 3",
   "language": "python",
   "name": "python3"
  },
  "language_info": {
   "codemirror_mode": {
    "name": "ipython",
    "version": 2
   },
   "file_extension": ".py",
   "mimetype": "text/x-python",
   "name": "python",
   "nbconvert_exporter": "python",
   "pygments_lexer": "ipython2",
   "version": "2.7.6"
  }
 },
 "nbformat": 4,
 "nbformat_minor": 5
}
