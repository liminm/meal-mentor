{
 "cells": [
  {
   "cell_type": "code",
   "id": "initial_id",
   "metadata": {
    "collapsed": true,
    "ExecuteTime": {
     "end_time": "2024-10-29T02:59:04.255465Z",
     "start_time": "2024-10-29T02:59:02.963877Z"
    }
   },
   "source": [
    "import pandas as pd\n",
    "from tqdm.auto import tqdm\n",
    "\n",
    "from meal_mentor.ingest import ingest_data, load_index\n",
    "from meal_mentor.ingest import load_index\n"
   ],
   "outputs": [],
   "execution_count": 2
  },
  {
   "metadata": {
    "ExecuteTime": {
     "end_time": "2024-10-29T02:59:33.003319Z",
     "start_time": "2024-10-29T02:59:32.996006Z"
    }
   },
   "cell_type": "code",
   "source": [
    "def minsearch_search(query, boost=None):\n",
    "    if boost is None:\n",
    "        boost = {}\n",
    "\n",
    "    results = index.search(\n",
    "        query=query,\n",
    "        filter_dict={},\n",
    "        boost_dict=boost,\n",
    "        num_results=10\n",
    "    )\n",
    "\n",
    "    return results"
   ],
   "id": "609692099c5a0339",
   "outputs": [],
   "execution_count": 10
  },
  {
   "metadata": {
    "ExecuteTime": {
     "end_time": "2024-10-29T02:59:34.078969Z",
     "start_time": "2024-10-29T02:59:34.066946Z"
    }
   },
   "cell_type": "code",
   "source": [
    "def hit_rate(relevance_total):\n",
    "    cnt = 0\n",
    "\n",
    "    for line in relevance_total:\n",
    "        if True in line:\n",
    "            cnt = cnt + 1\n",
    "\n",
    "    return cnt / len(relevance_total)\n",
    "\n",
    "\n",
    "def mrr(relevance_total):\n",
    "    total_score = 0.0\n",
    "\n",
    "    for line in relevance_total:\n",
    "        for rank in range(len(line)):\n",
    "            if line[rank] == True:\n",
    "                total_score = total_score + 1 / (rank + 1)\n",
    "\n",
    "    return total_score / len(relevance_total)"
   ],
   "id": "f224e1a72627f741",
   "outputs": [],
   "execution_count": 11
  },
  {
   "metadata": {
    "ExecuteTime": {
     "end_time": "2024-10-29T02:59:35.933776Z",
     "start_time": "2024-10-29T02:59:35.921924Z"
    }
   },
   "cell_type": "code",
   "source": [
    "def evaluate(ground_truth, search_function):\n",
    "    relevance_total = []\n",
    "    results_dict = {}\n",
    "    for q in tqdm(ground_truth):\n",
    "        try:\n",
    "            doc_id = q['id']\n",
    "            results = search_function(q)\n",
    "\n",
    "            relevance = [str(d['id']) == str(doc_id) for d in results]\n",
    "\n",
    "            results_dict[q['id']] = (q, results)\n",
    "            relevance_total.append(relevance)\n",
    "            # if all(not r for r in relevance):\n",
    "            #     print(\"No relevant results found for query: \", q)\n",
    "            # print(\"Results: \", results)\n",
    "        except Exception as e:\n",
    "            print(f\"Error processing query: {q} with exeption: {e}\")\n",
    "\n",
    "    return {\n",
    "        'hit_rate': hit_rate(relevance_total),\n",
    "        'mrr': mrr(relevance_total),\n",
    "    }"
   ],
   "id": "2bca1d59e2e58751",
   "outputs": [],
   "execution_count": 12
  },
  {
   "metadata": {},
   "cell_type": "markdown",
   "source": "## Evaluate retrieval using MinSearch and the ground truth data generated with gpt-4o-mini",
   "id": "baae8a404672737e"
  },
  {
   "metadata": {
    "ExecuteTime": {
     "end_time": "2024-10-29T02:53:40.367654Z",
     "start_time": "2024-10-29T02:53:40.332431Z"
    }
   },
   "cell_type": "code",
   "source": [
    "df_question = pd.read_csv('../data/ground-truth-retrieval_4o_mini.csv')\n",
    "df_question.head()"
   ],
   "id": "2170210e93d55136",
   "outputs": [
    {
     "data": {
      "text/plain": [
       "   id                                           question\n",
       "0   0  Can you provide the nutritional breakdown for ...\n",
       "1   0  What makes this Potato Latkes recipe suitable ...\n",
       "2   0  Are there any specific kosher dietary guidelin...\n",
       "3   0  How can I adjust the ingredients in the Potato...\n",
       "4   0  What type of cuisine do the Potato Latkes belo..."
      ],
      "text/html": [
       "<div>\n",
       "<style scoped>\n",
       "    .dataframe tbody tr th:only-of-type {\n",
       "        vertical-align: middle;\n",
       "    }\n",
       "\n",
       "    .dataframe tbody tr th {\n",
       "        vertical-align: top;\n",
       "    }\n",
       "\n",
       "    .dataframe thead th {\n",
       "        text-align: right;\n",
       "    }\n",
       "</style>\n",
       "<table border=\"1\" class=\"dataframe\">\n",
       "  <thead>\n",
       "    <tr style=\"text-align: right;\">\n",
       "      <th></th>\n",
       "      <th>id</th>\n",
       "      <th>question</th>\n",
       "    </tr>\n",
       "  </thead>\n",
       "  <tbody>\n",
       "    <tr>\n",
       "      <th>0</th>\n",
       "      <td>0</td>\n",
       "      <td>Can you provide the nutritional breakdown for ...</td>\n",
       "    </tr>\n",
       "    <tr>\n",
       "      <th>1</th>\n",
       "      <td>0</td>\n",
       "      <td>What makes this Potato Latkes recipe suitable ...</td>\n",
       "    </tr>\n",
       "    <tr>\n",
       "      <th>2</th>\n",
       "      <td>0</td>\n",
       "      <td>Are there any specific kosher dietary guidelin...</td>\n",
       "    </tr>\n",
       "    <tr>\n",
       "      <th>3</th>\n",
       "      <td>0</td>\n",
       "      <td>How can I adjust the ingredients in the Potato...</td>\n",
       "    </tr>\n",
       "    <tr>\n",
       "      <th>4</th>\n",
       "      <td>0</td>\n",
       "      <td>What type of cuisine do the Potato Latkes belo...</td>\n",
       "    </tr>\n",
       "  </tbody>\n",
       "</table>\n",
       "</div>"
      ]
     },
     "execution_count": 6,
     "metadata": {},
     "output_type": "execute_result"
    }
   ],
   "execution_count": 6
  },
  {
   "metadata": {
    "ExecuteTime": {
     "end_time": "2024-10-29T02:53:42.512733Z",
     "start_time": "2024-10-29T02:53:42.496919Z"
    }
   },
   "cell_type": "code",
   "source": [
    "ground_truth = df_question.to_dict(orient='records')\n",
    "ground_truth[0]"
   ],
   "id": "f64daa30efcf4c3e",
   "outputs": [
    {
     "data": {
      "text/plain": [
       "{'id': 0,\n",
       " 'question': 'Can you provide the nutritional breakdown for the Potato Latkes recipe, including protein, carbs, and fat content?'}"
      ]
     },
     "execution_count": 7,
     "metadata": {},
     "output_type": "execute_result"
    }
   ],
   "execution_count": 7
  },
  {
   "metadata": {
    "ExecuteTime": {
     "end_time": "2024-10-29T02:53:43.961432Z",
     "start_time": "2024-10-29T02:53:43.931294Z"
    }
   },
   "cell_type": "code",
   "source": [
    "documents = ingest_data(file_path='../data/data.csv')\n",
    "documents[0]"
   ],
   "id": "c2d6e2762afbacf1",
   "outputs": [
    {
     "name": "stdout",
     "output_type": "stream",
     "text": [
      "   id diet_type                                  recipe_name cuisine_type  \\\n",
      "0   0      dash  Potato Latkes Made Simple: A Twitter Recipe       kosher   \n",
      "1   1      dash                             Avocado Dressing     american   \n",
      "2   2      dash                                  Bread Salad     american   \n",
      "3   3      dash                             Ultimat Sparkler        world   \n",
      "4   4      dash                                  Yogurt Pops     american   \n",
      "\n",
      "   protein(g)  carbs(g)  fat(g)  \n",
      "0       31.55    110.84  118.28  \n",
      "1        4.18     18.97  118.42  \n",
      "2       44.09    153.84   86.03  \n",
      "3        0.32     16.32    0.08  \n",
      "4        9.07     34.05    7.90  \n"
     ]
    },
    {
     "data": {
      "text/plain": [
       "{'id': 0,\n",
       " 'diet_type': 'dash',\n",
       " 'recipe_name': 'Potato Latkes Made Simple: A Twitter Recipe',\n",
       " 'cuisine_type': 'kosher',\n",
       " 'protein(g)': 31.55,\n",
       " 'carbs(g)': 110.84,\n",
       " 'fat(g)': 118.28}"
      ]
     },
     "execution_count": 8,
     "metadata": {},
     "output_type": "execute_result"
    }
   ],
   "execution_count": 8
  },
  {
   "metadata": {
    "ExecuteTime": {
     "end_time": "2024-10-29T02:53:45.392679Z",
     "start_time": "2024-10-29T02:53:45.335986Z"
    }
   },
   "cell_type": "code",
   "source": [
    "text_fields = [\n",
    "    'id',\n",
    "    'recipe_name',\n",
    "    'cuisine_type',\n",
    "    'diet_type',\n",
    "    'protein(g)',\n",
    "    'carbs(g)',\n",
    "    'fat(g)',\n",
    "]\n",
    "keyword_fields = ['id']\n",
    "index = load_index(\n",
    "    documents=documents,\n",
    "    text_fields=text_fields,\n",
    "    keyword_fields=keyword_fields\n",
    ")"
   ],
   "id": "f0c6606cb0c6c35b",
   "outputs": [],
   "execution_count": 9
  },
  {
   "metadata": {
    "ExecuteTime": {
     "end_time": "2024-10-29T02:53:55.298759Z",
     "start_time": "2024-10-29T02:53:47.956024Z"
    }
   },
   "cell_type": "code",
   "source": "evaluate(ground_truth, lambda q: minsearch_search(q['question']))",
   "id": "67a835d1a85fcbf9",
   "outputs": [
    {
     "data": {
      "text/plain": [
       "  0%|          | 0/1000 [00:00<?, ?it/s]"
      ],
      "application/vnd.jupyter.widget-view+json": {
       "version_major": 2,
       "version_minor": 0,
       "model_id": "a5da5cce869e47c0b6c27649f0eb74fd"
      }
     },
     "metadata": {},
     "output_type": "display_data"
    },
    {
     "data": {
      "text/plain": [
       "{'hit_rate': 0.898, 'mrr': 0.85794126984127}"
      ]
     },
     "execution_count": 10,
     "metadata": {},
     "output_type": "execute_result"
    }
   ],
   "execution_count": 10
  },
  {
   "metadata": {},
   "cell_type": "markdown",
   "source": "Results: {'hit_rate': 0.898, 'mrr': 0.85794126984127}",
   "id": "982fd51c0047246e"
  },
  {
   "metadata": {},
   "cell_type": "markdown",
   "source": "## Evaluate retrieval using MinSearch and the ground truth data generated with gpt-4o",
   "id": "a5fdcc931bcfd96"
  },
  {
   "metadata": {
    "ExecuteTime": {
     "end_time": "2024-10-29T02:56:25.297312Z",
     "start_time": "2024-10-29T02:56:25.274079Z"
    }
   },
   "cell_type": "code",
   "source": [
    "df_question = pd.read_csv('../data/ground-truth-retrieval_4o.csv')\n",
    "df_question.head()"
   ],
   "id": "f69130f879c7c0c7",
   "outputs": [
    {
     "data": {
      "text/plain": [
       "   id                                           question\n",
       "0   0  What is the protein content in the Potato Latk...\n",
       "1   0  Can you tell me how many grams of carbohydrate...\n",
       "2   0  I need to know the fat content in the Potato L...\n",
       "3   0  What type of cuisine is the Potato Latkes Made...\n",
       "4   0  Is the Potato Latkes Made Simple recipe suitab..."
      ],
      "text/html": [
       "<div>\n",
       "<style scoped>\n",
       "    .dataframe tbody tr th:only-of-type {\n",
       "        vertical-align: middle;\n",
       "    }\n",
       "\n",
       "    .dataframe tbody tr th {\n",
       "        vertical-align: top;\n",
       "    }\n",
       "\n",
       "    .dataframe thead th {\n",
       "        text-align: right;\n",
       "    }\n",
       "</style>\n",
       "<table border=\"1\" class=\"dataframe\">\n",
       "  <thead>\n",
       "    <tr style=\"text-align: right;\">\n",
       "      <th></th>\n",
       "      <th>id</th>\n",
       "      <th>question</th>\n",
       "    </tr>\n",
       "  </thead>\n",
       "  <tbody>\n",
       "    <tr>\n",
       "      <th>0</th>\n",
       "      <td>0</td>\n",
       "      <td>What is the protein content in the Potato Latk...</td>\n",
       "    </tr>\n",
       "    <tr>\n",
       "      <th>1</th>\n",
       "      <td>0</td>\n",
       "      <td>Can you tell me how many grams of carbohydrate...</td>\n",
       "    </tr>\n",
       "    <tr>\n",
       "      <th>2</th>\n",
       "      <td>0</td>\n",
       "      <td>I need to know the fat content in the Potato L...</td>\n",
       "    </tr>\n",
       "    <tr>\n",
       "      <th>3</th>\n",
       "      <td>0</td>\n",
       "      <td>What type of cuisine is the Potato Latkes Made...</td>\n",
       "    </tr>\n",
       "    <tr>\n",
       "      <th>4</th>\n",
       "      <td>0</td>\n",
       "      <td>Is the Potato Latkes Made Simple recipe suitab...</td>\n",
       "    </tr>\n",
       "  </tbody>\n",
       "</table>\n",
       "</div>"
      ]
     },
     "execution_count": 24,
     "metadata": {},
     "output_type": "execute_result"
    }
   ],
   "execution_count": 24
  },
  {
   "metadata": {
    "ExecuteTime": {
     "end_time": "2024-10-28T16:17:53.307808Z",
     "start_time": "2024-10-28T16:17:53.298149Z"
    }
   },
   "cell_type": "code",
   "source": [
    "ground_truth = df_question.to_dict(orient='records')\n",
    "ground_truth[0]"
   ],
   "id": "a5d1c14ab18c12e5",
   "outputs": [
    {
     "data": {
      "text/plain": [
       "{'id': 0,\n",
       " 'question': 'What is the protein content in the Potato Latkes Made Simple recipe?'}"
      ]
     },
     "execution_count": 16,
     "metadata": {},
     "output_type": "execute_result"
    }
   ],
   "execution_count": 16
  },
  {
   "metadata": {
    "ExecuteTime": {
     "end_time": "2024-10-28T16:18:12.099535Z",
     "start_time": "2024-10-28T16:18:12.087770Z"
    }
   },
   "cell_type": "code",
   "source": [
    "documents = ingest_data(file_path='../data/data.csv')\n",
    "documents[0]"
   ],
   "id": "93dd9e306da12a9c",
   "outputs": [
    {
     "data": {
      "text/plain": [
       "{'id': 0,\n",
       " 'diet_type': 'dash',\n",
       " 'recipe_name': 'Potato Latkes Made Simple: A Twitter Recipe',\n",
       " 'cuisine_type': 'kosher',\n",
       " 'protein(g)': 31.55,\n",
       " 'carbs(g)': 110.84,\n",
       " 'fat(g)': 118.28}"
      ]
     },
     "execution_count": 17,
     "metadata": {},
     "output_type": "execute_result"
    }
   ],
   "execution_count": 17
  },
  {
   "metadata": {
    "ExecuteTime": {
     "end_time": "2024-10-29T03:01:44.523643Z",
     "start_time": "2024-10-29T03:01:44.474742Z"
    }
   },
   "cell_type": "code",
   "source": [
    "text_fields = [\n",
    "    'id',\n",
    "    'recipe_name',\n",
    "    'cuisine_type',\n",
    "    'diet_type',\n",
    "    'protein(g)',\n",
    "    'carbs(g)',\n",
    "    'fat(g)',\n",
    "]\n",
    "keyword_fields = ['id']\n",
    "index = load_index(\n",
    "    documents=documents,\n",
    "    text_fields=text_fields,\n",
    "    keyword_fields=keyword_fields\n",
    ")"
   ],
   "id": "625c782983e15c97",
   "outputs": [],
   "execution_count": 19
  },
  {
   "metadata": {
    "ExecuteTime": {
     "end_time": "2024-10-28T16:18:56.172104Z",
     "start_time": "2024-10-28T16:18:48.133497Z"
    }
   },
   "cell_type": "code",
   "source": "evaluate(ground_truth, lambda q: minsearch_search(q['question']))",
   "id": "f17a71a6745d9d23",
   "outputs": [
    {
     "data": {
      "text/plain": [
       "  0%|          | 0/1000 [00:00<?, ?it/s]"
      ],
      "application/vnd.jupyter.widget-view+json": {
       "version_major": 2,
       "version_minor": 0,
       "model_id": "70c775faa8504d95a1349a46e1b9052a"
      }
     },
     "metadata": {},
     "output_type": "display_data"
    },
    {
     "data": {
      "text/plain": [
       "{'hit_rate': 0.947, 'mrr': 0.9229761904761906}"
      ]
     },
     "execution_count": 19,
     "metadata": {},
     "output_type": "execute_result"
    }
   ],
   "execution_count": 19
  },
  {
   "metadata": {},
   "cell_type": "markdown",
   "source": "Results: {'hit_rate': 0.947, 'mrr': 0.9229761904761906}",
   "id": "19af0663726c7a0b"
  },
  {
   "metadata": {},
   "cell_type": "markdown",
   "source": "## Parameter Tuning for Ground Truth based on gpt-4o-mini",
   "id": "45c01c28de6e54f4"
  },
  {
   "metadata": {
    "ExecuteTime": {
     "end_time": "2024-10-29T02:59:45.160343Z",
     "start_time": "2024-10-29T02:59:45.129527Z"
    }
   },
   "cell_type": "code",
   "source": [
    "df_question = pd.read_csv('../data/ground-truth-retrieval_4o_mini.csv')\n",
    "ground_truth = df_question.to_dict(orient='records')\n",
    "documents = ingest_data(file_path='../data/data.csv')"
   ],
   "id": "cdc9f2a6a5266296",
   "outputs": [
    {
     "name": "stdout",
     "output_type": "stream",
     "text": [
      "   id diet_type                                  recipe_name cuisine_type  \\\n",
      "0   0      dash  Potato Latkes Made Simple: A Twitter Recipe       kosher   \n",
      "1   1      dash                             Avocado Dressing     american   \n",
      "2   2      dash                                  Bread Salad     american   \n",
      "3   3      dash                             Ultimat Sparkler        world   \n",
      "4   4      dash                                  Yogurt Pops     american   \n",
      "\n",
      "   protein(g)  carbs(g)  fat(g)  \n",
      "0       31.55    110.84  118.28  \n",
      "1        4.18     18.97  118.42  \n",
      "2       44.09    153.84   86.03  \n",
      "3        0.32     16.32    0.08  \n",
      "4        9.07     34.05    7.90  \n"
     ]
    }
   ],
   "execution_count": 13
  },
  {
   "metadata": {
    "ExecuteTime": {
     "end_time": "2024-10-29T02:59:47.343086Z",
     "start_time": "2024-10-29T02:59:47.325708Z"
    }
   },
   "cell_type": "code",
   "source": [
    "df_validation = df_question[:10]\n",
    "df_test = df_question[10:]\n",
    "df_validation"
   ],
   "id": "72024f2323fa554",
   "outputs": [
    {
     "data": {
      "text/plain": [
       "   id                                           question\n",
       "0   0  Can you provide the nutritional breakdown for ...\n",
       "1   0  What makes this Potato Latkes recipe suitable ...\n",
       "2   0  Are there any specific kosher dietary guidelin...\n",
       "3   0  How can I adjust the ingredients in the Potato...\n",
       "4   0  What type of cuisine do the Potato Latkes belo...\n",
       "5   1  What are the macronutrient values of the Avoca...\n",
       "6   1  Is the Avocado Dressing recipe suitable for so...\n",
       "7   1  Can you tell me what cuisine the Avocado Dress...\n",
       "8   1  What is the total fat content in the Avocado D...\n",
       "9   1  How much protein does the Avocado Dressing rec..."
      ],
      "text/html": [
       "<div>\n",
       "<style scoped>\n",
       "    .dataframe tbody tr th:only-of-type {\n",
       "        vertical-align: middle;\n",
       "    }\n",
       "\n",
       "    .dataframe tbody tr th {\n",
       "        vertical-align: top;\n",
       "    }\n",
       "\n",
       "    .dataframe thead th {\n",
       "        text-align: right;\n",
       "    }\n",
       "</style>\n",
       "<table border=\"1\" class=\"dataframe\">\n",
       "  <thead>\n",
       "    <tr style=\"text-align: right;\">\n",
       "      <th></th>\n",
       "      <th>id</th>\n",
       "      <th>question</th>\n",
       "    </tr>\n",
       "  </thead>\n",
       "  <tbody>\n",
       "    <tr>\n",
       "      <th>0</th>\n",
       "      <td>0</td>\n",
       "      <td>Can you provide the nutritional breakdown for ...</td>\n",
       "    </tr>\n",
       "    <tr>\n",
       "      <th>1</th>\n",
       "      <td>0</td>\n",
       "      <td>What makes this Potato Latkes recipe suitable ...</td>\n",
       "    </tr>\n",
       "    <tr>\n",
       "      <th>2</th>\n",
       "      <td>0</td>\n",
       "      <td>Are there any specific kosher dietary guidelin...</td>\n",
       "    </tr>\n",
       "    <tr>\n",
       "      <th>3</th>\n",
       "      <td>0</td>\n",
       "      <td>How can I adjust the ingredients in the Potato...</td>\n",
       "    </tr>\n",
       "    <tr>\n",
       "      <th>4</th>\n",
       "      <td>0</td>\n",
       "      <td>What type of cuisine do the Potato Latkes belo...</td>\n",
       "    </tr>\n",
       "    <tr>\n",
       "      <th>5</th>\n",
       "      <td>1</td>\n",
       "      <td>What are the macronutrient values of the Avoca...</td>\n",
       "    </tr>\n",
       "    <tr>\n",
       "      <th>6</th>\n",
       "      <td>1</td>\n",
       "      <td>Is the Avocado Dressing recipe suitable for so...</td>\n",
       "    </tr>\n",
       "    <tr>\n",
       "      <th>7</th>\n",
       "      <td>1</td>\n",
       "      <td>Can you tell me what cuisine the Avocado Dress...</td>\n",
       "    </tr>\n",
       "    <tr>\n",
       "      <th>8</th>\n",
       "      <td>1</td>\n",
       "      <td>What is the total fat content in the Avocado D...</td>\n",
       "    </tr>\n",
       "    <tr>\n",
       "      <th>9</th>\n",
       "      <td>1</td>\n",
       "      <td>How much protein does the Avocado Dressing rec...</td>\n",
       "    </tr>\n",
       "  </tbody>\n",
       "</table>\n",
       "</div>"
      ]
     },
     "execution_count": 14,
     "metadata": {},
     "output_type": "execute_result"
    }
   ],
   "execution_count": 14
  },
  {
   "metadata": {
    "ExecuteTime": {
     "end_time": "2024-10-29T03:02:00.827353Z",
     "start_time": "2024-10-29T03:02:00.800622Z"
    }
   },
   "cell_type": "code",
   "source": [
    "text_fields = [\n",
    "    'id',\n",
    "    'recipe_name',\n",
    "    'cuisine_type',\n",
    "    'diet_type',\n",
    "    'protein(g)',\n",
    "    'carbs(g)',\n",
    "    'fat(g)',\n",
    "]\n",
    "keyword_fields = ['id']\n",
    "index = load_index(\n",
    "    documents=documents,\n",
    "    text_fields=text_fields,\n",
    "    keyword_fields=keyword_fields\n",
    ")"
   ],
   "id": "b26dda366b98ea",
   "outputs": [],
   "execution_count": 20
  },
  {
   "metadata": {
    "ExecuteTime": {
     "end_time": "2024-10-29T03:02:02.647898Z",
     "start_time": "2024-10-29T03:02:02.636115Z"
    }
   },
   "cell_type": "code",
   "source": [
    "import random\n",
    "\n",
    "\n",
    "def simple_optimize(param_ranges, objective_function, n_iterations=10):\n",
    "    best_params = None\n",
    "    best_score = float('-inf')  # Assuming we're minimizing. Use float('-inf') if maximizing.\n",
    "\n",
    "    for _ in range(n_iterations):\n",
    "        # Generate random parameters\n",
    "        current_params = {}\n",
    "        for param, (min_val, max_val) in param_ranges.items():\n",
    "            if isinstance(min_val, float) and isinstance(max_val, float):\n",
    "                current_params[param] = random.randint(min_val, max_val)\n",
    "            else:\n",
    "                current_params[param] = random.uniform(min_val, max_val)\n",
    "\n",
    "        # Evaluate the objective function\n",
    "        current_score = objective_function(current_params)\n",
    "\n",
    "        # Update best if current is better\n",
    "        if current_score > best_score:  # Change to > if maximizing\n",
    "            best_score = current_score\n",
    "            best_params = current_params\n",
    "\n",
    "    return best_params, best_score"
   ],
   "id": "3e5b5c8a1473739a",
   "outputs": [],
   "execution_count": 21
  },
  {
   "metadata": {
    "ExecuteTime": {
     "end_time": "2024-10-29T03:02:04.715199Z",
     "start_time": "2024-10-29T03:02:04.706707Z"
    }
   },
   "cell_type": "code",
   "source": "gt_val = df_validation.to_dict(orient='records')\n",
   "id": "798d2d8aa8ea1379",
   "outputs": [],
   "execution_count": 22
  },
  {
   "metadata": {
    "ExecuteTime": {
     "end_time": "2024-10-29T03:02:06.479608Z",
     "start_time": "2024-10-29T03:02:06.472141Z"
    }
   },
   "cell_type": "code",
   "source": [
    "param_ranges = {\n",
    "    'recipe_name': (0.0, 3.0),\n",
    "    'cuisine_type': (0.0, 3.0),\n",
    "    'diet_type': (0.0, 3.0),\n",
    "    'protein(g)': (0.0, 3.0),\n",
    "    'carbs(g)': (0.0, 3.0),\n",
    "    'fat(g)': (0.0, 3.0),\n",
    "}\n",
    "\n",
    "\n",
    "def objective(boost_params):\n",
    "    def search_function(q):\n",
    "        return minsearch_search(q['question'], boost_params)\n",
    "\n",
    "    results = evaluate(gt_val, search_function)\n",
    "\n",
    "    return results['mrr']"
   ],
   "id": "558e01a007a5782b",
   "outputs": [],
   "execution_count": 23
  },
  {
   "metadata": {
    "ExecuteTime": {
     "end_time": "2024-10-29T03:02:09.677081Z",
     "start_time": "2024-10-29T03:02:07.842078Z"
    }
   },
   "cell_type": "code",
   "source": "simple_optimize(param_ranges, objective, n_iterations=20)",
   "id": "246f57273715147d",
   "outputs": [
    {
     "data": {
      "text/plain": [
       "  0%|          | 0/10 [00:00<?, ?it/s]"
      ],
      "application/vnd.jupyter.widget-view+json": {
       "version_major": 2,
       "version_minor": 0,
       "model_id": "9d28e1bc2d3d4606a4c0603d7013db36"
      }
     },
     "metadata": {},
     "output_type": "display_data"
    },
    {
     "data": {
      "text/plain": [
       "  0%|          | 0/10 [00:00<?, ?it/s]"
      ],
      "application/vnd.jupyter.widget-view+json": {
       "version_major": 2,
       "version_minor": 0,
       "model_id": "29741307dd2d4972b16a297388c98fd8"
      }
     },
     "metadata": {},
     "output_type": "display_data"
    },
    {
     "data": {
      "text/plain": [
       "  0%|          | 0/10 [00:00<?, ?it/s]"
      ],
      "application/vnd.jupyter.widget-view+json": {
       "version_major": 2,
       "version_minor": 0,
       "model_id": "ee171ad384ff4eea9b6b8ce7869ca8dc"
      }
     },
     "metadata": {},
     "output_type": "display_data"
    },
    {
     "data": {
      "text/plain": [
       "  0%|          | 0/10 [00:00<?, ?it/s]"
      ],
      "application/vnd.jupyter.widget-view+json": {
       "version_major": 2,
       "version_minor": 0,
       "model_id": "afb899d903d1491587030e0d4376262d"
      }
     },
     "metadata": {},
     "output_type": "display_data"
    },
    {
     "data": {
      "text/plain": [
       "  0%|          | 0/10 [00:00<?, ?it/s]"
      ],
      "application/vnd.jupyter.widget-view+json": {
       "version_major": 2,
       "version_minor": 0,
       "model_id": "aa19665ee90342958a4b8f8596037ea0"
      }
     },
     "metadata": {},
     "output_type": "display_data"
    },
    {
     "data": {
      "text/plain": [
       "  0%|          | 0/10 [00:00<?, ?it/s]"
      ],
      "application/vnd.jupyter.widget-view+json": {
       "version_major": 2,
       "version_minor": 0,
       "model_id": "b40f5761a7d847b5adc77af5a2696009"
      }
     },
     "metadata": {},
     "output_type": "display_data"
    },
    {
     "data": {
      "text/plain": [
       "  0%|          | 0/10 [00:00<?, ?it/s]"
      ],
      "application/vnd.jupyter.widget-view+json": {
       "version_major": 2,
       "version_minor": 0,
       "model_id": "1b9668b1ee324471b4347826ffcc496a"
      }
     },
     "metadata": {},
     "output_type": "display_data"
    },
    {
     "data": {
      "text/plain": [
       "  0%|          | 0/10 [00:00<?, ?it/s]"
      ],
      "application/vnd.jupyter.widget-view+json": {
       "version_major": 2,
       "version_minor": 0,
       "model_id": "0d83597139fe491bacb5ec4cc4e61717"
      }
     },
     "metadata": {},
     "output_type": "display_data"
    },
    {
     "data": {
      "text/plain": [
       "  0%|          | 0/10 [00:00<?, ?it/s]"
      ],
      "application/vnd.jupyter.widget-view+json": {
       "version_major": 2,
       "version_minor": 0,
       "model_id": "be0e7abead154edcb8a7139400fdb3db"
      }
     },
     "metadata": {},
     "output_type": "display_data"
    },
    {
     "data": {
      "text/plain": [
       "  0%|          | 0/10 [00:00<?, ?it/s]"
      ],
      "application/vnd.jupyter.widget-view+json": {
       "version_major": 2,
       "version_minor": 0,
       "model_id": "afd11a80a86f4cfcbf64750ac7dbb3c6"
      }
     },
     "metadata": {},
     "output_type": "display_data"
    },
    {
     "data": {
      "text/plain": [
       "  0%|          | 0/10 [00:00<?, ?it/s]"
      ],
      "application/vnd.jupyter.widget-view+json": {
       "version_major": 2,
       "version_minor": 0,
       "model_id": "a83f3c0bb3ec4318b5dcb3d6cbb83848"
      }
     },
     "metadata": {},
     "output_type": "display_data"
    },
    {
     "data": {
      "text/plain": [
       "  0%|          | 0/10 [00:00<?, ?it/s]"
      ],
      "application/vnd.jupyter.widget-view+json": {
       "version_major": 2,
       "version_minor": 0,
       "model_id": "0c50b126fb014db5a4f2db2c07bc3224"
      }
     },
     "metadata": {},
     "output_type": "display_data"
    },
    {
     "data": {
      "text/plain": [
       "  0%|          | 0/10 [00:00<?, ?it/s]"
      ],
      "application/vnd.jupyter.widget-view+json": {
       "version_major": 2,
       "version_minor": 0,
       "model_id": "f5afdbcf3eae486eaaec67d47b2713d5"
      }
     },
     "metadata": {},
     "output_type": "display_data"
    },
    {
     "data": {
      "text/plain": [
       "  0%|          | 0/10 [00:00<?, ?it/s]"
      ],
      "application/vnd.jupyter.widget-view+json": {
       "version_major": 2,
       "version_minor": 0,
       "model_id": "492df4c8a899457b828ee18e8d54deb2"
      }
     },
     "metadata": {},
     "output_type": "display_data"
    },
    {
     "data": {
      "text/plain": [
       "  0%|          | 0/10 [00:00<?, ?it/s]"
      ],
      "application/vnd.jupyter.widget-view+json": {
       "version_major": 2,
       "version_minor": 0,
       "model_id": "9b2a82467f754c49868c6845fa2924f0"
      }
     },
     "metadata": {},
     "output_type": "display_data"
    },
    {
     "data": {
      "text/plain": [
       "  0%|          | 0/10 [00:00<?, ?it/s]"
      ],
      "application/vnd.jupyter.widget-view+json": {
       "version_major": 2,
       "version_minor": 0,
       "model_id": "150f52b8b25f4d67aedba5d1c4ece437"
      }
     },
     "metadata": {},
     "output_type": "display_data"
    },
    {
     "data": {
      "text/plain": [
       "  0%|          | 0/10 [00:00<?, ?it/s]"
      ],
      "application/vnd.jupyter.widget-view+json": {
       "version_major": 2,
       "version_minor": 0,
       "model_id": "a042ee1ff30e4671884f9aeb925f2b1e"
      }
     },
     "metadata": {},
     "output_type": "display_data"
    },
    {
     "data": {
      "text/plain": [
       "  0%|          | 0/10 [00:00<?, ?it/s]"
      ],
      "application/vnd.jupyter.widget-view+json": {
       "version_major": 2,
       "version_minor": 0,
       "model_id": "e4a51ce76ccf4ff9803eea974aa98454"
      }
     },
     "metadata": {},
     "output_type": "display_data"
    },
    {
     "data": {
      "text/plain": [
       "  0%|          | 0/10 [00:00<?, ?it/s]"
      ],
      "application/vnd.jupyter.widget-view+json": {
       "version_major": 2,
       "version_minor": 0,
       "model_id": "85e180ec2ea64a7eb7b582ac6a9fb2cf"
      }
     },
     "metadata": {},
     "output_type": "display_data"
    },
    {
     "data": {
      "text/plain": [
       "  0%|          | 0/10 [00:00<?, ?it/s]"
      ],
      "application/vnd.jupyter.widget-view+json": {
       "version_major": 2,
       "version_minor": 0,
       "model_id": "0c67dfd752704715a49b54b441549277"
      }
     },
     "metadata": {},
     "output_type": "display_data"
    },
    {
     "data": {
      "text/plain": [
       "({'recipe_name': 1,\n",
       "  'cuisine_type': 2,\n",
       "  'diet_type': 0,\n",
       "  'protein(g)': 1,\n",
       "  'carbs(g)': 1,\n",
       "  'fat(g)': 2},\n",
       " 0.875)"
      ]
     },
     "execution_count": 24,
     "metadata": {},
     "output_type": "execute_result"
    }
   ],
   "execution_count": 24
  },
  {
   "metadata": {
    "ExecuteTime": {
     "end_time": "2024-10-29T03:02:44.853843Z",
     "start_time": "2024-10-29T03:02:37.527636Z"
    }
   },
   "cell_type": "code",
   "source": [
    "def minsearch_improved(\n",
    "        query,\n",
    "        boost=None\n",
    "):\n",
    "    # Set default boost values if not provided\n",
    "    if boost is None:\n",
    "        boost = {\n",
    "            'recipe_name': 1,\n",
    "            'cuisine_type': 2,\n",
    "            'diet_type': 0,\n",
    "            'protein(g)': 1,\n",
    "            'carbs(g)': 1,\n",
    "            'fat(g)': 2\n",
    "        }\n",
    "\n",
    "    # Perform the search using the query and boost settings\n",
    "    results = index.search(\n",
    "        query=query,\n",
    "        filter_dict={},\n",
    "        boost_dict=boost,\n",
    "        num_results=10\n",
    "    )\n",
    "\n",
    "    return results\n",
    "\n",
    "evaluate(ground_truth, lambda q: minsearch_improved(q['question']))\n"
   ],
   "id": "f3c5079c4b270038",
   "outputs": [
    {
     "data": {
      "text/plain": [
       "  0%|          | 0/1000 [00:00<?, ?it/s]"
      ],
      "application/vnd.jupyter.widget-view+json": {
       "version_major": 2,
       "version_minor": 0,
       "model_id": "3a270e5777194e1f8c9216f472af135e"
      }
     },
     "metadata": {},
     "output_type": "display_data"
    },
    {
     "data": {
      "text/plain": [
       "{'hit_rate': 0.898, 'mrr': 0.850663492063492}"
      ]
     },
     "execution_count": 25,
     "metadata": {},
     "output_type": "execute_result"
    }
   ],
   "execution_count": 25
  },
  {
   "metadata": {},
   "cell_type": "markdown",
   "source": "Results: {'hit_rate': 0.898, 'mrr': 0.850663492063492}",
   "id": "fd8ccb74fa7c5a1a"
  },
  {
   "metadata": {},
   "cell_type": "markdown",
   "source": "## Parameter Tuning for Ground Truth based on gpt-4o",
   "id": "27e0a55c4278d6e7"
  },
  {
   "metadata": {
    "ExecuteTime": {
     "end_time": "2024-10-29T03:08:41.522381Z",
     "start_time": "2024-10-29T03:08:41.485358Z"
    }
   },
   "cell_type": "code",
   "source": [
    "df_question = pd.read_csv('../data/ground-truth-retrieval_4o.csv')\n",
    "ground_truth = df_question.to_dict(orient='records')\n",
    "documents = ingest_data(file_path='../data/data.csv')"
   ],
   "id": "c18448e41f77a945",
   "outputs": [
    {
     "name": "stdout",
     "output_type": "stream",
     "text": [
      "   id diet_type                                  recipe_name cuisine_type  \\\n",
      "0   0      dash  Potato Latkes Made Simple: A Twitter Recipe       kosher   \n",
      "1   1      dash                             Avocado Dressing     american   \n",
      "2   2      dash                                  Bread Salad     american   \n",
      "3   3      dash                             Ultimat Sparkler        world   \n",
      "4   4      dash                                  Yogurt Pops     american   \n",
      "\n",
      "   protein(g)  carbs(g)  fat(g)  \n",
      "0       31.55    110.84  118.28  \n",
      "1        4.18     18.97  118.42  \n",
      "2       44.09    153.84   86.03  \n",
      "3        0.32     16.32    0.08  \n",
      "4        9.07     34.05    7.90  \n"
     ]
    }
   ],
   "execution_count": 28
  },
  {
   "metadata": {
    "ExecuteTime": {
     "end_time": "2024-10-29T03:08:52.519297Z",
     "start_time": "2024-10-29T03:08:43.305102Z"
    }
   },
   "cell_type": "code",
   "source": [
    "df_validation = df_question[:10]\n",
    "df_test = df_question[10:]\n",
    "df_validation\n",
    "text_fields = [\n",
    "    'id',\n",
    "    'recipe_name',\n",
    "    'cuisine_type',\n",
    "    'diet_type',\n",
    "    'protein(g)',\n",
    "    'carbs(g)',\n",
    "    'fat(g)',\n",
    "]\n",
    "keyword_fields = ['id']\n",
    "index = load_index(\n",
    "    documents=documents,\n",
    "    text_fields=text_fields,\n",
    "    keyword_fields=keyword_fields\n",
    ")\n",
    "import random\n",
    "\n",
    "\n",
    "def simple_optimize(param_ranges, objective_function, n_iterations=10):\n",
    "    best_params = None\n",
    "    best_score = float('-inf')  # Assuming we're minimizing. Use float('-inf') if maximizing.\n",
    "\n",
    "    for _ in range(n_iterations):\n",
    "        # Generate random parameters\n",
    "        current_params = {}\n",
    "        for param, (min_val, max_val) in param_ranges.items():\n",
    "            if isinstance(min_val, float) and isinstance(max_val, float):\n",
    "                current_params[param] = random.randint(min_val, max_val)\n",
    "            else:\n",
    "                current_params[param] = random.uniform(min_val, max_val)\n",
    "\n",
    "        # Evaluate the objective function\n",
    "        current_score = objective_function(current_params)\n",
    "\n",
    "        # Update best if current is better\n",
    "        if current_score > best_score:  # Change to > if maximizing\n",
    "            best_score = current_score\n",
    "            best_params = current_params\n",
    "\n",
    "    return best_params, best_score\n",
    "\n",
    "\n",
    "gt_val = df_validation.to_dict(orient='records')\n",
    "\n",
    "param_ranges = {\n",
    "    'recipe_name': (0.0, 3.0),\n",
    "    'cuisine_type': (0.0, 3.0),\n",
    "    'diet_type': (0.0, 3.0),\n",
    "    'protein(g)': (0.0, 3.0),\n",
    "    'carbs(g)': (0.0, 3.0),\n",
    "    'fat(g)': (0.0, 3.0),\n",
    "}\n",
    "\n",
    "\n",
    "def objective(boost_params):\n",
    "    def search_function(q):\n",
    "        return minsearch_search(q['question'], boost_params)\n",
    "\n",
    "    results = evaluate(gt_val, search_function)\n",
    "\n",
    "    return results['mrr']\n",
    "\n",
    "\n",
    "simple_optimize(param_ranges, objective, n_iterations=20)\n",
    "\n",
    "\n",
    "def minsearch_improved(\n",
    "        query,\n",
    "        boost=None\n",
    "):\n",
    "    # Set default boost values if not provided\n",
    "    if boost is None:\n",
    "        boost = {\n",
    "            'recipe_name': 1,\n",
    "            'cuisine_type': 2,\n",
    "            'diet_type': 0,\n",
    "            'protein(g)': 1,\n",
    "            'carbs(g)': 1,\n",
    "            'fat(g)': 2\n",
    "        }\n",
    "\n",
    "    # Perform the search using the query and boost settings\n",
    "    results = index.search(\n",
    "        query=query,\n",
    "        filter_dict={},\n",
    "        boost_dict=boost,\n",
    "        num_results=10\n",
    "    )\n",
    "\n",
    "    return results\n",
    "\n",
    "\n",
    "evaluate(ground_truth, lambda q: minsearch_improved(q['question']))\n"
   ],
   "id": "fe37e52defc41c4e",
   "outputs": [
    {
     "data": {
      "text/plain": [
       "  0%|          | 0/10 [00:00<?, ?it/s]"
      ],
      "application/vnd.jupyter.widget-view+json": {
       "version_major": 2,
       "version_minor": 0,
       "model_id": "7764b192c05b4f1e94cb6bf5b33ab44c"
      }
     },
     "metadata": {},
     "output_type": "display_data"
    },
    {
     "data": {
      "text/plain": [
       "  0%|          | 0/10 [00:00<?, ?it/s]"
      ],
      "application/vnd.jupyter.widget-view+json": {
       "version_major": 2,
       "version_minor": 0,
       "model_id": "69b3dbaaeda14773990ecec0ab20d756"
      }
     },
     "metadata": {},
     "output_type": "display_data"
    },
    {
     "data": {
      "text/plain": [
       "  0%|          | 0/10 [00:00<?, ?it/s]"
      ],
      "application/vnd.jupyter.widget-view+json": {
       "version_major": 2,
       "version_minor": 0,
       "model_id": "fd4986a0fbb54e649fbe656df8bc253b"
      }
     },
     "metadata": {},
     "output_type": "display_data"
    },
    {
     "data": {
      "text/plain": [
       "  0%|          | 0/10 [00:00<?, ?it/s]"
      ],
      "application/vnd.jupyter.widget-view+json": {
       "version_major": 2,
       "version_minor": 0,
       "model_id": "7dbb197566624ba48a22d9940419bcb7"
      }
     },
     "metadata": {},
     "output_type": "display_data"
    },
    {
     "data": {
      "text/plain": [
       "  0%|          | 0/10 [00:00<?, ?it/s]"
      ],
      "application/vnd.jupyter.widget-view+json": {
       "version_major": 2,
       "version_minor": 0,
       "model_id": "64e16d1d18584521ba691e8e681d91cc"
      }
     },
     "metadata": {},
     "output_type": "display_data"
    },
    {
     "data": {
      "text/plain": [
       "  0%|          | 0/10 [00:00<?, ?it/s]"
      ],
      "application/vnd.jupyter.widget-view+json": {
       "version_major": 2,
       "version_minor": 0,
       "model_id": "1686babae61d465292e4baa96841f146"
      }
     },
     "metadata": {},
     "output_type": "display_data"
    },
    {
     "data": {
      "text/plain": [
       "  0%|          | 0/10 [00:00<?, ?it/s]"
      ],
      "application/vnd.jupyter.widget-view+json": {
       "version_major": 2,
       "version_minor": 0,
       "model_id": "63c39554d259488ab22482aa914d1ed2"
      }
     },
     "metadata": {},
     "output_type": "display_data"
    },
    {
     "data": {
      "text/plain": [
       "  0%|          | 0/10 [00:00<?, ?it/s]"
      ],
      "application/vnd.jupyter.widget-view+json": {
       "version_major": 2,
       "version_minor": 0,
       "model_id": "f80247c08cd34b4cb473545d3ada3c5c"
      }
     },
     "metadata": {},
     "output_type": "display_data"
    },
    {
     "data": {
      "text/plain": [
       "  0%|          | 0/10 [00:00<?, ?it/s]"
      ],
      "application/vnd.jupyter.widget-view+json": {
       "version_major": 2,
       "version_minor": 0,
       "model_id": "2753c880b4f94c298adf9025e7c4dc02"
      }
     },
     "metadata": {},
     "output_type": "display_data"
    },
    {
     "data": {
      "text/plain": [
       "  0%|          | 0/10 [00:00<?, ?it/s]"
      ],
      "application/vnd.jupyter.widget-view+json": {
       "version_major": 2,
       "version_minor": 0,
       "model_id": "80cee71673f1428e951a06afff35d181"
      }
     },
     "metadata": {},
     "output_type": "display_data"
    },
    {
     "data": {
      "text/plain": [
       "  0%|          | 0/10 [00:00<?, ?it/s]"
      ],
      "application/vnd.jupyter.widget-view+json": {
       "version_major": 2,
       "version_minor": 0,
       "model_id": "327bc1336ee347b8861a43eed4d05326"
      }
     },
     "metadata": {},
     "output_type": "display_data"
    },
    {
     "data": {
      "text/plain": [
       "  0%|          | 0/10 [00:00<?, ?it/s]"
      ],
      "application/vnd.jupyter.widget-view+json": {
       "version_major": 2,
       "version_minor": 0,
       "model_id": "d9ea45a9cdce4240b08e315869af3cc5"
      }
     },
     "metadata": {},
     "output_type": "display_data"
    },
    {
     "data": {
      "text/plain": [
       "  0%|          | 0/10 [00:00<?, ?it/s]"
      ],
      "application/vnd.jupyter.widget-view+json": {
       "version_major": 2,
       "version_minor": 0,
       "model_id": "ae1b1c5fffcc453390f03f92a896f8a3"
      }
     },
     "metadata": {},
     "output_type": "display_data"
    },
    {
     "data": {
      "text/plain": [
       "  0%|          | 0/10 [00:00<?, ?it/s]"
      ],
      "application/vnd.jupyter.widget-view+json": {
       "version_major": 2,
       "version_minor": 0,
       "model_id": "072234bfbe31480ba8fdf0d27c3873fd"
      }
     },
     "metadata": {},
     "output_type": "display_data"
    },
    {
     "data": {
      "text/plain": [
       "  0%|          | 0/10 [00:00<?, ?it/s]"
      ],
      "application/vnd.jupyter.widget-view+json": {
       "version_major": 2,
       "version_minor": 0,
       "model_id": "81a978a5468c451887a3fbc8e6b6c929"
      }
     },
     "metadata": {},
     "output_type": "display_data"
    },
    {
     "data": {
      "text/plain": [
       "  0%|          | 0/10 [00:00<?, ?it/s]"
      ],
      "application/vnd.jupyter.widget-view+json": {
       "version_major": 2,
       "version_minor": 0,
       "model_id": "ff627147447d47b1abc89e697d424ea0"
      }
     },
     "metadata": {},
     "output_type": "display_data"
    },
    {
     "data": {
      "text/plain": [
       "  0%|          | 0/10 [00:00<?, ?it/s]"
      ],
      "application/vnd.jupyter.widget-view+json": {
       "version_major": 2,
       "version_minor": 0,
       "model_id": "1425243a454540fd8cc7ecb547433414"
      }
     },
     "metadata": {},
     "output_type": "display_data"
    },
    {
     "data": {
      "text/plain": [
       "  0%|          | 0/10 [00:00<?, ?it/s]"
      ],
      "application/vnd.jupyter.widget-view+json": {
       "version_major": 2,
       "version_minor": 0,
       "model_id": "f03060c38e2b47b4bf979bd56cfa5b99"
      }
     },
     "metadata": {},
     "output_type": "display_data"
    },
    {
     "data": {
      "text/plain": [
       "  0%|          | 0/10 [00:00<?, ?it/s]"
      ],
      "application/vnd.jupyter.widget-view+json": {
       "version_major": 2,
       "version_minor": 0,
       "model_id": "210ba92844bd4b6e8bc5f5cc822730a8"
      }
     },
     "metadata": {},
     "output_type": "display_data"
    },
    {
     "data": {
      "text/plain": [
       "  0%|          | 0/10 [00:00<?, ?it/s]"
      ],
      "application/vnd.jupyter.widget-view+json": {
       "version_major": 2,
       "version_minor": 0,
       "model_id": "9188bd7553a9495eafde214d253c3e05"
      }
     },
     "metadata": {},
     "output_type": "display_data"
    },
    {
     "data": {
      "text/plain": [
       "  0%|          | 0/1000 [00:00<?, ?it/s]"
      ],
      "application/vnd.jupyter.widget-view+json": {
       "version_major": 2,
       "version_minor": 0,
       "model_id": "ac1654f9ea174608a4fa0c7a98d539a4"
      }
     },
     "metadata": {},
     "output_type": "display_data"
    },
    {
     "data": {
      "text/plain": [
       "{'hit_rate': 0.947, 'mrr': 0.919023015873016}"
      ]
     },
     "execution_count": 29,
     "metadata": {},
     "output_type": "execute_result"
    }
   ],
   "execution_count": 29
  },
  {
   "metadata": {},
   "cell_type": "markdown",
   "source": "Results: {'hit_rate': 0.947, 'mrr': 0.92}",
   "id": "55dd08b7cc548cbb"
  }
 ],
 "metadata": {
  "kernelspec": {
   "display_name": "Python 3",
   "language": "python",
   "name": "python3"
  },
  "language_info": {
   "codemirror_mode": {
    "name": "ipython",
    "version": 2
   },
   "file_extension": ".py",
   "mimetype": "text/x-python",
   "name": "python",
   "nbconvert_exporter": "python",
   "pygments_lexer": "ipython2",
   "version": "2.7.6"
  }
 },
 "nbformat": 4,
 "nbformat_minor": 5
}
